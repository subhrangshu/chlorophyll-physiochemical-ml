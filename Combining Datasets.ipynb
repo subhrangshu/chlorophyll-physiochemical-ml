{
 "cells": [
  {
   "cell_type": "code",
   "execution_count": 1,
   "metadata": {},
   "outputs": [],
   "source": [
    "import numpy as np\n",
    "import pandas as pd\n",
    "import matplotlib.pyplot as plt\n",
    "import xarray as xr\n",
    "import cartopy.crs as ccrs"
   ]
  },
  {
   "cell_type": "code",
   "execution_count": 2,
   "metadata": {},
   "outputs": [],
   "source": [
    "data1 = xr.open_dataset(\"Phytoplankton.nc\")\n",
    "data2 = xr.open_dataset(\"Salinity.nc\")"
   ]
  },
  {
   "cell_type": "code",
   "execution_count": 3,
   "metadata": {},
   "outputs": [],
   "source": [
    "def get_combo(lat,lon):\n",
    "    bio_df = data1.sel(latitude=lat,longitude=lon).to_dataframe()\n",
    "    bio_df.to_csv(\"Extracted Datasets/temp_bio_data.csv\".format(lat,lon))\n",
    "    bio_df = pd.read_csv(\"Extracted Datasets/temp_bio_data.csv\".format(lat,lon))\n",
    "    bio_df['time'] = bio_df.time.str.slice(0,7)\n",
    "    bio_df = bio_df.drop(['depth'],axis=1)\n",
    "    bio_df.to_csv(\"Extracted Datasets/temp_bio_data.csv\".format(lat,lon), index=False)\n",
    "    bio_df = pd.read_csv(\"Extracted Datasets/temp_bio_data.csv\".format(lat,lon))\n",
    "\n",
    "    phy_df = data2.sel(latitude=lat,longitude=lon).to_dataframe().fillna(0)\n",
    "    phy_df.to_csv(\"Extracted Datasets/temp_phy_data.csv\".format(lat,lon))\n",
    "    phy_df = pd.read_csv(\"Extracted Datasets/temp_phy_data.csv\".format(lat,lon))\n",
    "    phy_df['time'] = phy_df.time.str.slice(0,7)\n",
    "    phy_df = phy_df.drop(['depth'],axis=1)\n",
    "    phy_df.to_csv(\"Extracted Datasets/temp_phy_data.csv\".format(lat,lon), index=False)\n",
    "    phy_df = pd.read_csv(\"Extracted Datasets/temp_phy_data.csv\".format(lat,lon))\n",
    "    \n",
    "    return pd.merge(bio_df, phy_df, on=['time','latitude','longitude'])"
   ]
  },
  {
   "cell_type": "code",
   "execution_count": 6,
   "metadata": {},
   "outputs": [],
   "source": [
    "lat = [5,6,7,8,9,10,11,12,13,14,15]\n",
    "lon = [82,83,84,85,86,87,88,89,90,91,92]"
   ]
  },
  {
   "cell_type": "code",
   "execution_count": 7,
   "metadata": {},
   "outputs": [],
   "source": [
    "l = []\n",
    "for i in lat:\n",
    "    for j in lon:\n",
    "        l.append(get_combo(i,j))\n",
    "\n",
    "combined_data = pd.concat(l)\n",
    "combined_data['year'] = combined_data.time.str.slice(0,4)\n",
    "combined_data['month'] = combined_data.time.str.slice(5,7)\n",
    "combined_data.to_csv('Extracted Datasets/Combined_Data.csv', index=False)"
   ]
  },
  {
   "cell_type": "code",
   "execution_count": null,
   "metadata": {},
   "outputs": [],
   "source": []
  },
  {
   "cell_type": "code",
   "execution_count": null,
   "metadata": {},
   "outputs": [],
   "source": []
  },
  {
   "cell_type": "code",
   "execution_count": null,
   "metadata": {},
   "outputs": [],
   "source": []
  },
  {
   "cell_type": "code",
   "execution_count": null,
   "metadata": {},
   "outputs": [],
   "source": []
  }
 ],
 "metadata": {
  "kernelspec": {
   "display_name": "Python 3",
   "language": "python",
   "name": "python3"
  },
  "language_info": {
   "codemirror_mode": {
    "name": "ipython",
    "version": 3
   },
   "file_extension": ".py",
   "mimetype": "text/x-python",
   "name": "python",
   "nbconvert_exporter": "python",
   "pygments_lexer": "ipython3",
   "version": "3.7.7"
  }
 },
 "nbformat": 4,
 "nbformat_minor": 4
}
